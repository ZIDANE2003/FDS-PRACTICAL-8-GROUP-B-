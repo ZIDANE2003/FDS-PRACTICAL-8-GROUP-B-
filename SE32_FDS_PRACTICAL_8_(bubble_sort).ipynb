{
  "nbformat": 4,
  "nbformat_minor": 0,
  "metadata": {
    "colab": {
      "name": "SE32 FDS PRACTICAL 8 (bubble sort)",
      "provenance": [],
      "collapsed_sections": [],
      "include_colab_link": true
    },
    "kernelspec": {
      "display_name": "Python 3",
      "name": "python3"
    }
  },
  "cells": [
    {
      "cell_type": "markdown",
      "metadata": {
        "id": "view-in-github",
        "colab_type": "text"
      },
      "source": [
        "<a href=\"https://colab.research.google.com/github/ZIDANE2003/FDS-PRACTICAL-8-GROUP-B-/blob/main/SE32_FDS_PRACTICAL_8_(bubble_sort).ipynb\" target=\"_parent\"><img src=\"https://colab.research.google.com/assets/colab-badge.svg\" alt=\"Open In Colab\"/></a>"
      ]
    },
    {
      "cell_type": "code",
      "metadata": {
        "colab": {
          "base_uri": "https://localhost:8080/"
        },
        "id": "g4IdByB9u88x",
        "outputId": "04069b90-4a1f-489c-b9a8-1771262a43f7"
      },
      "source": [
        "\n",
        "# BUBBLE SORT to Display TOP Five scores of Students\n",
        "stud=[]\n",
        "def sorting_no():\n",
        "    n=int(input(\"Enter no of students in class:\"))\n",
        "    for i in range(n):\n",
        "        num=float(input(\"Enter Percentage of students:\"))\n",
        "        stud.append(num)\n",
        "\n",
        "sorting_no()\n",
        "print(\"List of percentage of Students:\",stud,end=\" \")       \n",
        "   \n",
        "\n",
        "def bubble():\n",
        "  count=1\n",
        "  for i in range(len(stud)-1,0,-1):\n",
        "    for j in range(0,i):\n",
        "      if(stud[j]<stud[j+1]):\n",
        "        stud[j], stud[j + 1] = stud[j + 1], stud[j]\n",
        "    count+=1   \n",
        "  j=-1  \n",
        "  print(\"\\n Top five scores are\")\n",
        "  while(j!=-6):\n",
        "    print(stud[j],end=\" \")\n",
        "    j=j-1\n",
        "\n",
        "bubble()\n",
        "\n",
        "\n",
        "\n",
        "\n",
        "\n",
        "     "
      ],
      "execution_count": 20,
      "outputs": [
        {
          "output_type": "stream",
          "name": "stdout",
          "text": [
            "Enter no of students in class:5\n",
            "Enter Percentage of students:78.8\n",
            "Enter Percentage of students:66\n",
            "Enter Percentage of students:90\n",
            "Enter Percentage of students:82.2\n",
            "Enter Percentage of students:60\n",
            "List of percentage of Students: [78.8, 66.0, 90.0, 82.2, 60.0] \n",
            " Top five scores are\n",
            "60.0 66.0 78.8 82.2 90.0 "
          ]
        }
      ]
    }
  ]
}