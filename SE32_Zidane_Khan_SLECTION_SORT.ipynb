{
  "nbformat": 4,
  "nbformat_minor": 0,
  "metadata": {
    "colab": {
      "name": "SE32 Zidane Khan SLECTION SORT",
      "provenance": [],
      "collapsed_sections": [],
      "toc_visible": true,
      "include_colab_link": true
    },
    "kernelspec": {
      "display_name": "Python 3",
      "name": "python3"
    }
  },
  "cells": [
    {
      "cell_type": "markdown",
      "metadata": {
        "id": "view-in-github",
        "colab_type": "text"
      },
      "source": [
        "<a href=\"https://colab.research.google.com/github/ZIDANE2003/FDS-PRACTICAL-8-GROUP-B-/blob/main/SE32_Zidane_Khan_SLECTION_SORT.ipynb\" target=\"_parent\"><img src=\"https://colab.research.google.com/assets/colab-badge.svg\" alt=\"Open In Colab\"/></a>"
      ]
    },
    {
      "cell_type": "code",
      "metadata": {
        "id": "i6XW3PVY0R3P",
        "colab": {
          "base_uri": "https://localhost:8080/"
        },
        "outputId": "9104ab8c-a71a-4e97-c1a9-1ee5e161ea0c"
      },
      "source": [
        "stud=[]\n",
        "n=int(input(\"Enter no of students in class:\")) \n",
        "for i in range(n):\n",
        "  num=float(input(\"Enter percentage of students:\"))\n",
        "  stud.append(num)\n",
        "print(\"List of percentage of Students:\",stud,end=\" \")\n",
        "def SelectionSort(stud,n):\n",
        "  for i in range(n):\n",
        "    Minimum = i\n",
        "    for j in range(i+1,n):\n",
        "      if(stud[j]<stud[Minimum]):\n",
        "        Minimum = j\n",
        "    temp=stud[i]\n",
        "    stud[i]=stud[Minimum]\n",
        "    stud[Minimum]=temp\n",
        "SelectionSort(stud,n)  \n",
        "print(\"\\n Top five scores are\")    \n",
        "print(stud)        \n",
        "\n",
        "\n"
      ],
      "execution_count": 5,
      "outputs": [
        {
          "output_type": "stream",
          "name": "stdout",
          "text": [
            "Enter no of students in class:5\n",
            "Enter percentage of students:78.8\n",
            "Enter percentage of students:82.2\n",
            "Enter percentage of students:82.1\n",
            "Enter percentage of students:63\n",
            "Enter percentage of students:90\n",
            "List of percentage of Students: [78.8, 82.2, 82.1, 63.0, 90.0] \n",
            " Top five scores are\n",
            "[63.0, 78.8, 82.1, 82.2, 90.0]\n"
          ]
        }
      ]
    }
  ]
}